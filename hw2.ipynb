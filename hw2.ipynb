{
 "cells": [
  {
   "cell_type": "code",
   "execution_count": 1,
   "metadata": {},
   "outputs": [],
   "source": [
    "from pyspark.sql import SparkSession\n",
    "from pyspark.sql.functions import countDistinct, avg,stddev,max,min\n",
    "from pyspark.sql.types import StructType,StructField, StringType, IntegerType"
   ]
  },
  {
   "cell_type": "code",
   "execution_count": 2,
   "metadata": {},
   "outputs": [],
   "source": [
    "import os\n",
    "os.environ['JAVA_HOME'] = 'D:\\\\Java'  # 这里的路径为java的bin目录所在路径"
   ]
  },
  {
   "cell_type": "code",
   "execution_count": 3,
   "metadata": {},
   "outputs": [],
   "source": [
    "spark = SparkSession.builder.appName('hw2').getOrCreate()"
   ]
  },
  {
   "cell_type": "code",
   "execution_count": 4,
   "metadata": {},
   "outputs": [],
   "source": [
    "customSchema = StructType([\n",
    "  StructField(\"Year\", IntegerType(), True),\n",
    "  StructField(\"Month\", IntegerType(), True),\n",
    "  StructField(\"DayofMonth\", IntegerType(), True),\n",
    "  StructField(\"DayOfWeek\", IntegerType(), True),\n",
    "  StructField(\"DepTime\", IntegerType(), True),\n",
    "  StructField(\"CRSDepTime\", IntegerType(), True),\n",
    "  StructField(\"ArrTime\", IntegerType(), True),\n",
    "  StructField(\"CRSArrTime\", IntegerType(), True),\n",
    "  StructField(\"UniqueCarrier\", StringType(), True),\n",
    "  StructField(\"FlightNum\", IntegerType(), True),\n",
    "  StructField(\"TailNum\", StringType(), True),\n",
    "  StructField(\"ActualElapsedTime\", IntegerType(), True),\n",
    "  StructField(\"CRSElapsedTime\", IntegerType(), True),\n",
    "  StructField(\"AirTime\", IntegerType(), True),\n",
    "  StructField(\"ArrDelay\", IntegerType(), True),\n",
    "  StructField(\"DepDelay\", IntegerType(), True),\n",
    "  StructField(\"Origin\", StringType(), True),\n",
    "  StructField(\"Dest\", StringType(), True),\n",
    "  StructField(\"Distance\", IntegerType(), True),\n",
    "  StructField(\"TaxiIn\", IntegerType(), True),\n",
    "  StructField(\"TaxiOut\", IntegerType(), True),\n",
    "  StructField(\"Cancelled\", IntegerType(), True),\n",
    "  StructField(\"CancellationCode\", StringType(), True),\n",
    "  StructField(\"Diverted\", IntegerType(), True),\n",
    "  StructField(\"CarrierDelay\", IntegerType(), True),\n",
    "  StructField(\"WeatherDelay\", IntegerType(), True),\n",
    "  StructField(\"NASDelay\", IntegerType(), True),\n",
    "  StructField(\"SecurityDelay\", IntegerType(), True),\n",
    "  StructField(\"LateAircraftDelay\", IntegerType(), True)]\n",
    ")"
   ]
  },
  {
   "cell_type": "code",
   "execution_count": 5,
   "metadata": {},
   "outputs": [],
   "source": [
    "df = spark.read.option(\"header\",\"true\").schema(customSchema).csv(\"*.csv\")"
   ]
  },
  {
   "cell_type": "code",
   "execution_count": 6,
   "metadata": {},
   "outputs": [
    {
     "name": "stdout",
     "output_type": "stream",
     "text": [
      "root\n",
      " |-- Year: integer (nullable = true)\n",
      " |-- Month: integer (nullable = true)\n",
      " |-- DayofMonth: integer (nullable = true)\n",
      " |-- DayOfWeek: integer (nullable = true)\n",
      " |-- DepTime: integer (nullable = true)\n",
      " |-- CRSDepTime: integer (nullable = true)\n",
      " |-- ArrTime: integer (nullable = true)\n",
      " |-- CRSArrTime: integer (nullable = true)\n",
      " |-- UniqueCarrier: string (nullable = true)\n",
      " |-- FlightNum: integer (nullable = true)\n",
      " |-- TailNum: string (nullable = true)\n",
      " |-- ActualElapsedTime: integer (nullable = true)\n",
      " |-- CRSElapsedTime: integer (nullable = true)\n",
      " |-- AirTime: integer (nullable = true)\n",
      " |-- ArrDelay: integer (nullable = true)\n",
      " |-- DepDelay: integer (nullable = true)\n",
      " |-- Origin: string (nullable = true)\n",
      " |-- Dest: string (nullable = true)\n",
      " |-- Distance: integer (nullable = true)\n",
      " |-- TaxiIn: integer (nullable = true)\n",
      " |-- TaxiOut: integer (nullable = true)\n",
      " |-- Cancelled: integer (nullable = true)\n",
      " |-- CancellationCode: string (nullable = true)\n",
      " |-- Diverted: integer (nullable = true)\n",
      " |-- CarrierDelay: integer (nullable = true)\n",
      " |-- WeatherDelay: integer (nullable = true)\n",
      " |-- NASDelay: integer (nullable = true)\n",
      " |-- SecurityDelay: integer (nullable = true)\n",
      " |-- LateAircraftDelay: integer (nullable = true)\n",
      "\n"
     ]
    }
   ],
   "source": [
    "df.printSchema()"
   ]
  },
  {
   "cell_type": "code",
   "execution_count": 7,
   "metadata": {},
   "outputs": [],
   "source": [
    "df.createOrReplaceTempView(\"schedule\")"
   ]
  },
  {
   "cell_type": "code",
   "execution_count": 8,
   "metadata": {},
   "outputs": [
    {
     "name": "stdout",
     "output_type": "stream",
     "text": [
      "+----+\n",
      "|Year|\n",
      "+----+\n",
      "|2000|\n",
      "|2001|\n",
      "|2002|\n",
      "|2003|\n",
      "|2004|\n",
      "|2005|\n",
      "|2007|\n",
      "|2008|\n",
      "+----+\n",
      "\n"
     ]
    }
   ],
   "source": [
    "spark.sql(\"SELECT distinct(Year) FROM schedule order by Year\").show()"
   ]
  },
  {
   "cell_type": "code",
   "execution_count": 9,
   "metadata": {},
   "outputs": [
    {
     "name": "stdout",
     "output_type": "stream",
     "text": [
      "+-----+-------------+\n",
      "|Month|max(ArrDelay)|\n",
      "+-----+-------------+\n",
      "|    1|         1525|\n",
      "|    2|         2461|\n",
      "|    3|         1490|\n",
      "|    4|         2453|\n",
      "|    5|         1951|\n",
      "|    6|         1707|\n",
      "|    7|         1510|\n",
      "|    8|         1359|\n",
      "|    9|         1583|\n",
      "|   10|         1392|\n",
      "|   11|         1308|\n",
      "|   12|         1655|\n",
      "+-----+-------------+\n",
      "\n"
     ]
    }
   ],
   "source": [
    "spark.sql(\"SELECT Month,max(ArrDelay) FROM schedule \\\n",
    "          where Year = 2008 group by Month order by Month\").show()"
   ]
  },
  {
   "cell_type": "code",
   "execution_count": 10,
   "metadata": {},
   "outputs": [
    {
     "name": "stdout",
     "output_type": "stream",
     "text": [
      "+-----+-------------+\n",
      "|Month|max(DepDelay)|\n",
      "+-----+-------------+\n",
      "|    1|         1355|\n",
      "|    2|         2457|\n",
      "|    3|         1521|\n",
      "|    4|         2467|\n",
      "|    5|         1952|\n",
      "|    6|         1710|\n",
      "|    7|         1518|\n",
      "|    8|         1367|\n",
      "|    9|         1552|\n",
      "|   10|         1369|\n",
      "|   11|         1286|\n",
      "|   12|         1597|\n",
      "+-----+-------------+\n",
      "\n"
     ]
    }
   ],
   "source": [
    "spark.sql(\"SELECT Month,max(DepDelay) FROM schedule \\\n",
    "          where Year = 2008 group by Month order by Month\").show()"
   ]
  },
  {
   "cell_type": "code",
   "execution_count": 11,
   "metadata": {},
   "outputs": [
    {
     "name": "stdout",
     "output_type": "stream",
     "text": [
      "+-----+-------------+-------------+\n",
      "|Month|max(ArrDelay)|max(DepDelay)|\n",
      "+-----+-------------+-------------+\n",
      "|    1|         1525|         1355|\n",
      "|    2|         2461|         2457|\n",
      "|    3|         1490|         1521|\n",
      "|    4|         2453|         2467|\n",
      "|    5|         1951|         1952|\n",
      "|    6|         1707|         1710|\n",
      "|    7|         1510|         1518|\n",
      "|    8|         1359|         1367|\n",
      "|    9|         1583|         1552|\n",
      "|   10|         1392|         1369|\n",
      "|   11|         1308|         1286|\n",
      "|   12|         1655|         1597|\n",
      "+-----+-------------+-------------+\n",
      "\n"
     ]
    }
   ],
   "source": [
    "spark.sql(\"SELECT Month,max(ArrDelay),max(DepDelay) FROM schedule \\\n",
    "          where Year = 2008 group by Month order by Month\").show()"
   ]
  },
  {
   "cell_type": "code",
   "execution_count": 12,
   "metadata": {},
   "outputs": [
    {
     "name": "stdout",
     "output_type": "stream",
     "text": [
      "+----+-------------------+\n",
      "|Year|count(WeatherDelay)|\n",
      "+----+-------------------+\n",
      "|2000|                  0|\n",
      "|2001|                  0|\n",
      "|2002|                  0|\n",
      "|2003|            3815798|\n",
      "|2004|            7129270|\n",
      "|2005|            7140596|\n",
      "+----+-------------------+\n",
      "\n"
     ]
    }
   ],
   "source": [
    "spark.sql(\"SELECT Year,count(WeatherDelay) FROM schedule \\\n",
    "          where Year>=2000 AND Year<=2005 group by Year order by Year\").show()"
   ]
  },
  {
   "cell_type": "code",
   "execution_count": 27,
   "metadata": {},
   "outputs": [
    {
     "name": "stdout",
     "output_type": "stream",
     "text": [
      "+------+--------+\n",
      "|Origin|count(1)|\n",
      "+------+--------+\n",
      "|   ATL|  413851|\n",
      "|   ORD|  375784|\n",
      "|   DFW|  297345|\n",
      "|   DEN|  240928|\n",
      "|   LAX|  237597|\n",
      "+------+--------+\n",
      "\n"
     ]
    }
   ],
   "source": [
    "spark.sql(\"SELECT Origin,count(*) FROM schedule \\\n",
    "          where Year = 2007 and\\\n",
    "          (CarrierDelay IS NOT NULL or WeatherDelay IS NOT NULL or \\\n",
    "          NASDelay IS NOT NULL or SecurityDelay IS NOT NULL or \\\n",
    "          LateAircraftDelay IS NOT NULL) \\\n",
    "          group by Origin order by 2 Desc LIMIT 5\").show()"
   ]
  },
  {
   "cell_type": "code",
   "execution_count": 26,
   "metadata": {},
   "outputs": [
    {
     "name": "stdout",
     "output_type": "stream",
     "text": [
      "+----+--------+\n",
      "|Dest|count(1)|\n",
      "+----+--------+\n",
      "| ATL|  413805|\n",
      "| ORD|  375716|\n",
      "| DFW|  297481|\n",
      "| DEN|  240758|\n",
      "| LAX|  237676|\n",
      "+----+--------+\n",
      "\n"
     ]
    }
   ],
   "source": [
    "spark.sql(\"SELECT Dest,count(*) FROM schedule \\\n",
    "          where Year = 2007 and\\\n",
    "          (CarrierDelay IS NOT NULL or WeatherDelay IS NOT NULL or \\\n",
    "          NASDelay IS NOT NULL or SecurityDelay IS NOT NULL or \\\n",
    "          LateAircraftDelay IS NOT NULL) \\\n",
    "          group by Dest order by 2 Desc LIMIT 5\").show()"
   ]
  },
  {
   "cell_type": "code",
   "execution_count": 28,
   "metadata": {},
   "outputs": [
    {
     "name": "stdout",
     "output_type": "stream",
     "text": [
      "+------+--------+\n",
      "|Origin|count(1)|\n",
      "+------+--------+\n",
      "|   ATL|  206118|\n",
      "|   ORD|  183984|\n",
      "|   DFW|  135433|\n",
      "|   DEN|  109839|\n",
      "|   PHX|  105917|\n",
      "+------+--------+\n",
      "\n"
     ]
    }
   ],
   "source": [
    "spark.sql(\"SELECT Origin,count(*) FROM schedule \\\n",
    "          where Year = 2007 and\\\n",
    "          DepDelay > 0 \\\n",
    "          group by Origin order by 2 Desc LIMIT 5\").show()"
   ]
  },
  {
   "cell_type": "code",
   "execution_count": 30,
   "metadata": {},
   "outputs": [
    {
     "name": "stdout",
     "output_type": "stream",
     "text": [
      "+----+--------+\n",
      "|Dest|count(1)|\n",
      "+----+--------+\n",
      "| ATL|  186911|\n",
      "| ORD|  177054|\n",
      "| DFW|  134824|\n",
      "| DEN|  110417|\n",
      "| LAX|  109643|\n",
      "+----+--------+\n",
      "\n"
     ]
    }
   ],
   "source": [
    "spark.sql(\"SELECT Dest,count(*) FROM schedule \\\n",
    "          where Year = 2007 and\\\n",
    "          ArrDelay > 0 \\\n",
    "          group by Dest order by 2 Desc LIMIT 5\").show()"
   ]
  },
  {
   "cell_type": "code",
   "execution_count": 14,
   "metadata": {},
   "outputs": [
    {
     "name": "stdout",
     "output_type": "stream",
     "text": [
      "+------+-------------+\n",
      "|Origin|max(DepDelay)|\n",
      "+------+-------------+\n",
      "|   PBI|         2601|\n",
      "|   ALO|         1956|\n",
      "|   HNL|         1831|\n",
      "|   FWA|         1736|\n",
      "|   FAI|         1689|\n",
      "|   PIT|         1677|\n",
      "|   MSN|         1657|\n",
      "|   JFK|         1547|\n",
      "|   IAH|         1529|\n",
      "|   AUS|         1523|\n",
      "|   ANC|         1487|\n",
      "|   PDX|         1433|\n",
      "|   SBN|         1429|\n",
      "|   MEM|         1415|\n",
      "|   GRR|         1408|\n",
      "|   CLE|         1406|\n",
      "|   FLL|         1372|\n",
      "|   LAS|         1369|\n",
      "|   KOA|         1360|\n",
      "|   BUF|         1355|\n",
      "+------+-------------+\n",
      "only showing top 20 rows\n",
      "\n"
     ]
    }
   ],
   "source": [
    "spark.sql(\"SELECT Origin,max(DepDelay) FROM schedule \\\n",
    "          where Year = 2007 group by Origin order by 2 Desc\").show()"
   ]
  },
  {
   "cell_type": "code",
   "execution_count": 15,
   "metadata": {},
   "outputs": [
    {
     "name": "stdout",
     "output_type": "stream",
     "text": [
      "+------+-------------+-------------+\n",
      "|Origin|max(ArrDelay)|max(DepDelay)|\n",
      "+------+-------------+-------------+\n",
      "|   PBI|         2598|         2601|\n",
      "|   ALO|         1942|         1956|\n",
      "|   HNL|         1848|         1831|\n",
      "|   FWA|         1715|         1736|\n",
      "|   FAI|         1665|         1689|\n",
      "|   PIT|         1655|         1677|\n",
      "|   MSN|         1652|         1657|\n",
      "|   JFK|         1564|         1547|\n",
      "|   AUS|         1534|         1523|\n",
      "|   IAH|         1532|         1529|\n",
      "|   ANC|         1469|         1487|\n",
      "|   SBN|         1437|         1429|\n",
      "|   CLE|         1426|         1406|\n",
      "|   GRR|         1425|         1408|\n",
      "|   PDX|         1418|         1433|\n",
      "|   MEM|         1402|         1415|\n",
      "|   BOI|         1387|         1345|\n",
      "|   LAS|         1386|         1369|\n",
      "|   FLL|         1379|         1372|\n",
      "|   BUF|         1375|         1355|\n",
      "+------+-------------+-------------+\n",
      "only showing top 20 rows\n",
      "\n"
     ]
    }
   ],
   "source": [
    "spark.sql(\"SELECT Origin,max(ArrDelay),max(DepDelay) FROM schedule \\\n",
    "          where Year = 2007 group by Origin order by 2 Desc,3 Desc\").show()"
   ]
  },
  {
   "cell_type": "code",
   "execution_count": 17,
   "metadata": {},
   "outputs": [
    {
     "name": "stdout",
     "output_type": "stream",
     "text": [
      "+------+-------------+-------------+\n",
      "|Origin|max(ArrDelay)|max(DepDelay)|\n",
      "+------+-------------+-------------+\n",
      "|   PBI|         2598|         2601|\n",
      "|   ALO|         1942|         1956|\n",
      "|   HNL|         1848|         1831|\n",
      "|   FWA|         1715|         1736|\n",
      "|   FAI|         1665|         1689|\n",
      "+------+-------------+-------------+\n",
      "\n"
     ]
    }
   ],
   "source": [
    "spark.sql(\"SELECT Origin,max(ArrDelay),max(DepDelay) FROM schedule \\\n",
    "          where Year = 2007 group by Origin order by 2 Desc LIMIT 5\").show()"
   ]
  },
  {
   "cell_type": "code",
   "execution_count": 18,
   "metadata": {},
   "outputs": [
    {
     "name": "stdout",
     "output_type": "stream",
     "text": [
      "+------+-------------+-------------+\n",
      "|Origin|max(ArrDelay)|max(DepDelay)|\n",
      "+------+-------------+-------------+\n",
      "|   PBI|         2598|         2601|\n",
      "|   ALO|         1942|         1956|\n",
      "|   HNL|         1848|         1831|\n",
      "|   FWA|         1715|         1736|\n",
      "|   FAI|         1665|         1689|\n",
      "+------+-------------+-------------+\n",
      "\n"
     ]
    }
   ],
   "source": [
    "spark.sql(\"SELECT Origin,max(ArrDelay),max(DepDelay) FROM schedule \\\n",
    "          where Year = 2007 group by Origin order by 3 Desc LIMIT 5\").show()"
   ]
  }
 ],
 "metadata": {
  "kernelspec": {
   "display_name": "Python 3",
   "language": "python",
   "name": "python3"
  },
  "language_info": {
   "codemirror_mode": {
    "name": "ipython",
    "version": 3
   },
   "file_extension": ".py",
   "mimetype": "text/x-python",
   "name": "python",
   "nbconvert_exporter": "python",
   "pygments_lexer": "ipython3",
   "version": "3.8.3"
  }
 },
 "nbformat": 4,
 "nbformat_minor": 4
}
